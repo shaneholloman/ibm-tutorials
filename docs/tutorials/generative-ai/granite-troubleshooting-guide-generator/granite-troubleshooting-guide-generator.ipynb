{
 "cells": [
  {
   "cell_type": "markdown",
   "id": "7b0b1ce7",
   "metadata": {},
   "source": [
    "# Building a FileNet Troubleshooter with IBM Granite and Ollama"
   ]
  },
  {
   "cell_type": "markdown",
   "id": "9b4170ea",
   "metadata": {},
   "source": [
    "_*Author - Vrunda Gadesha*_"
   ]
  },
  {
   "cell_type": "markdown",
   "id": "a20510b2",
   "metadata": {},
   "source": [
    "Imagine the complexities that come with running a content platform engine for an enterprise level organization. Enterprise content management systems ( ECM ) such as IBM FileNet P8, securely store millions of critical documents, from contracts and financial records to patient files and engineering plans. For many organizations, that system is not just an  object store, but supports many use cases and acts as a highly structured, intelligent library. It comes with many features to accommodate many stakeholders as well as controls permissions  to control who can see what and how information flows through the business. It’s powerful, reliable, and essential.\n",
    "\n",
    "But with great power comes great complexity!\n",
    "\n",
    "These components come with their own dependencies that are time consuming to support—combing through event logs, reviewing the state of the JVM and looking at disk space. These dependencies are used to help find the root cause of issues and due to their wide use in the enterprise, they usually need to be kept operational with an SLA.\n",
    "\n",
    "\n",
    "When an error occurs in a system like this, it doesn’t just say \"File not found.\" or “timeout”. Instead, a user might be met with a cryptic error code. This code contains random string of letters and numbers like FNRCA0117E. For the person facing an error  this whether they're a new developer, a junior administrator, or someone on the support team it’s like hitting a brick wall. These cryptic codes create a few major challenges:\n",
    "\n",
    "- The code tells you what happened, but never why.\n",
    "\n",
    "- Finding the solution becomes a frustrating time sink.\n",
    "\n",
    "- This creates a knowledge gap that halts productivity.\n",
    "\n",
    "This is where Generative AI changes the game. Imagine having a seasoned expert on call, 24/7, who can instantly translate that cryptic code into plain English. But it doesn’t stop there. A well-instructed AI can weave a story around the error, suggesting common scenarios where it occurs and, most importantly, providing a clear, step-by-step plan for how to investigate and fix it. Instead of a dead end, the error becomes the starting point of a guided solution.\n",
    "\n",
    "\n",
    "In this tutorial, we will build the program which will generate the full troubleshooting guide using IBM's Granite model. "
   ]
  },
  {
   "cell_type": "markdown",
   "id": "c0a6a502",
   "metadata": {},
   "source": [
    "## Granite 4.0 Small model\n",
    "\n",
    "Granite 4.0 introduces the next-generation family of open, performant and trusted Granite language models (SLMs). These models deliver greater efficiency through high performance and faster inference speeds at lower operational costs compared to similar and larger frontier models.\n",
    "\n",
    "With a range of compact sizes, Granite 4.0 is built for flexibility to meet different hardware, deployment and cost requirements. It’s designed to scale, offering unconstrained context lengths for extended document processing and complex workflows.\n",
    "\n",
    "Like previous Granite models, Granite 4.0 models are open source under Apache 2.0, offering extensive transparency into the training data and processes. This design equips developers to customize the models with proprietary data for increased performance. \n",
    "\n",
    "The Granite 4.0 family consists multiple small sizes and architectures, offering developers the ability to choose the right model for their use case, while considering specific hardware, deployment, and cost requirements. \n",
    "\n",
    "In this tutorial we will be using Granite 4.0-H-Micro, a 3B parameters hybrid SSM-transformers model "
   ]
  },
  {
   "cell_type": "markdown",
   "id": "21dfd29a",
   "metadata": {},
   "source": [
    "## Problem statement"
   ]
  },
  {
   "cell_type": "markdown",
   "id": "2072067a",
   "metadata": {},
   "source": [
    "Let's understand this scenario: \n",
    "\n",
    "A junior administrator is trying to help a user and sees the error FNRCA0117E pop up. The system tells them this means \"The requested action is not authorized.\"\n",
    "\n",
    "This is where the real problem begins. The administrator is left with a list of frustrating questions: Which action wasn't authorized? Which user's permissions are wrong? Is the problem with the user, the document, or the folder? The error code is just a clue about the system fault. It can not provide the solution.\n",
    "\n",
    "**With this program we can bridge this gap. It will take error code as input and, using LLM, generate a full guide that answers those follow-up questions, providing a clear path to resolving the issue.**\n"
   ]
  },
  {
   "cell_type": "markdown",
   "id": "08b38d69",
   "metadata": {},
   "source": [
    "## Understanding Our Data"
   ]
  },
  {
   "cell_type": "markdown",
   "id": "7d998ec5",
   "metadata": {},
   "source": [
    "To implement this, the LLM model needs specific documentation to understand the context. It doesn't have years of FileNet experience out of the box. We give this data to LLM in a simple CSV file named `filenet-errors.csv`. \n",
    "\n",
    "It contains three columns:\n",
    "\n",
    "- `ErrorCode`: The unique identifier, like FNRCA0117E.\n",
    "- `ErrorName`: A short, human-readable title for the error, like \"Authorization Failure\".\n",
    "- `ErrorMessage`: The short, official description."
   ]
  },
  {
   "cell_type": "markdown",
   "id": "c9754505",
   "metadata": {},
   "source": [
    "## Prerequisites"
   ]
  },
  {
   "cell_type": "markdown",
   "id": "c0484d08",
   "metadata": {},
   "source": [
    "For this tutorial you have to install the following dependencies and make sure to run them on your computer:\n",
    "\n",
    "- `Ollama`: This is essential to run the Granite model on your local machine. If you don't have it, you can download it from ollama.com. Make sure the application is running in the background.\n",
    "\n",
    "- `Python`: The code is written for Python 3.7 or newer.\n",
    "\n",
    "- `Jupyter Notebook`: This is where we'll write and run our code. If you need to install it, you can run the command: `pip install notebook`."
   ]
  },
  {
   "cell_type": "markdown",
   "id": "d8647446",
   "metadata": {},
   "source": [
    "## Downloading and running the Granite 4 Model"
   ]
  },
  {
   "cell_type": "markdown",
   "id": "0275a5d4",
   "metadata": {},
   "source": [
    "The purpose of this tutorial is to demonstrate the power of using IBM's Granite 4.0 Micro Model. In order to use that model with Ollama we need to run the command below in the terminal to download it locally to our computer\n",
    "\n",
    "`ollama pull ibm/granite4:latest`\n",
    "\n",
    "This command tells Ollama to pull the IBM Granite 4:Micro model and configure to be available for inferencing. Once the command is complete if you run the command\n",
    "\n",
    "`ollama list` \n",
    "\n",
    "You should see the model showing as being available"
   ]
  },
  {
   "cell_type": "markdown",
   "id": "cb9ff675",
   "metadata": {},
   "source": [
    "## Steps"
   ]
  },
  {
   "cell_type": "markdown",
   "id": "dc427a5d",
   "metadata": {},
   "source": [
    "Here are the steps you can follow in the Jupyter Notebook to build the FileNet Troubleshooting Guide generator.\n",
    "\n",
    "To make this tutorial more interactive, you'll find a special feature. Below each code block, look for an **\"Explain code\"** button powered by Granite. Use this button to see a detailed breakdown of each line and understand the code with more depth."
   ]
  },
  {
   "cell_type": "code",
   "execution_count": null,
   "id": "15f66b40",
   "metadata": {},
   "outputs": [],
   "source": []
  },
  {
   "cell_type": "markdown",
   "id": "053f8aea",
   "metadata": {},
   "source": [
    "### Step 1: Install dependencies\n",
    "\n",
    "First, we'll install the essential Python libraries that our project depends on."
   ]
  },
  {
   "cell_type": "code",
   "execution_count": 6,
   "id": "337b105e",
   "metadata": {},
   "outputs": [],
   "source": [
    "# This command installs the necessary Python libraries.\n",
    "# - ollama: The official client library to communicate with our local Ollama server.\n",
    "# - pandas: A powerful library for loading and working with data from our CSV file.\n",
    "\n",
    "!pip install -q ollama pandas"
   ]
  },
  {
   "cell_type": "markdown",
   "id": "35422e39",
   "metadata": {},
   "source": [
    "### Step 2: Test connection to the local model\n",
    "\n",
    "Now we will run a quick connection test to confirm our notebook can communicate with the local AI model."
   ]
  },
  {
   "cell_type": "code",
   "execution_count": 7,
   "id": "2590d9ad",
   "metadata": {},
   "outputs": [
    {
     "name": "stdout",
     "output_type": "stream",
     "text": [
      "Sending a test message to the local model: 'ibm/granite4:latest'...\n",
      "Please wait, the first response can take a moment...\n",
      "\n",
      " Connection Successful! Model responded:\n",
      "   \"I am an AI assistant designed to help answer your questions and provide useful information.\"\n"
     ]
    }
   ],
   "source": [
    "import ollama\n",
    "\n",
    "\n",
    "model_name = \"ibm/granite4:latest\"\n",
    "print(f\"Sending a test message to the local model: '{model_name}'...\")\n",
    "print(\"Please wait, the first response can take a moment...\")\n",
    "\n",
    "try:\n",
    "    # We send a simple chat message to the model.\n",
    "    response = ollama.chat(\n",
    "        model=model_name,\n",
    "        messages=[\n",
    "            {'role': 'user', 'content': 'In one short sentence, introduce yourself.'},\n",
    "        ],\n",
    "        think=False,\n",
    "    )\n",
    "    \n",
    "    # If successful, we print the text content from the model's response.\n",
    "    message_content = response['message']['content']\n",
    "    print(\"\\n Connection Successful! Model responded:\")\n",
    "    print(f'   \"{message_content}\"')\n",
    "\n",
    "except Exception as e:\n",
    "    print(f\"\\n An error occurred. Is Ollama running?\")\n",
    "    print(f\"   Please ensure the Ollama application is running on your computer.\")\n",
    "    print(f\"   Error details: {e}\")"
   ]
  },
  {
   "cell_type": "markdown",
   "id": "e1fd812e",
   "metadata": {},
   "source": [
    "### Step 3: Load and prepare the data\n",
    "\n",
    "As we can see the connection with local model is established successfully, now as a next step we will load `filenet-errors.csv` file into memory and clean the data to prevent any errors."
   ]
  },
  {
   "cell_type": "code",
   "execution_count": 8,
   "id": "fa96229b",
   "metadata": {},
   "outputs": [
    {
     "name": "stdout",
     "output_type": "stream",
     "text": [
      "Successfully loaded and cleaned data from 'filenet-errors.csv'\n",
      "\n",
      "Cleaned column names: ['ErrorCode', 'ErrorName', 'ErrorMessage']\n",
      "\n",
      "First 5 rows of data:\n"
     ]
    },
    {
     "data": {
      "text/html": [
       "<div>\n",
       "<style scoped>\n",
       "    .dataframe tbody tr th:only-of-type {\n",
       "        vertical-align: middle;\n",
       "    }\n",
       "\n",
       "    .dataframe tbody tr th {\n",
       "        vertical-align: top;\n",
       "    }\n",
       "\n",
       "    .dataframe thead th {\n",
       "        text-align: right;\n",
       "    }\n",
       "</style>\n",
       "<table border=\"1\" class=\"dataframe\">\n",
       "  <thead>\n",
       "    <tr style=\"text-align: right;\">\n",
       "      <th></th>\n",
       "      <th>ErrorCode</th>\n",
       "      <th>ErrorName</th>\n",
       "      <th>ErrorMessage</th>\n",
       "    </tr>\n",
       "  </thead>\n",
       "  <tbody>\n",
       "    <tr>\n",
       "      <th>0</th>\n",
       "      <td>FNRAC1001W</td>\n",
       "      <td>WARN_TRACE_LOG_ENABLED</td>\n",
       "      <td>Server trace logging is enabled.</td>\n",
       "    </tr>\n",
       "    <tr>\n",
       "      <th>1</th>\n",
       "      <td>FNRAC1002W</td>\n",
       "      <td>WARN_ADDON_CANNOT_BE_UNSELECTED</td>\n",
       "      <td>The selection of this add-on feature cannot be...</td>\n",
       "    </tr>\n",
       "    <tr>\n",
       "      <th>2</th>\n",
       "      <td>FNRAC1001E</td>\n",
       "      <td>ERR_UNEXPECTED</td>\n",
       "      <td>An unexpected error occurred.</td>\n",
       "    </tr>\n",
       "    <tr>\n",
       "      <th>3</th>\n",
       "      <td>FNRAC1002E</td>\n",
       "      <td>ERR_LOGIN_AUTHENTICATION</td>\n",
       "      <td>The system cannot log you on right now.</td>\n",
       "    </tr>\n",
       "    <tr>\n",
       "      <th>4</th>\n",
       "      <td>FNRAC1003E</td>\n",
       "      <td>ERR_LOGIN_ACTIVITY</td>\n",
       "      <td>You are no longer logged on.</td>\n",
       "    </tr>\n",
       "  </tbody>\n",
       "</table>\n",
       "</div>"
      ],
      "text/plain": [
       "    ErrorCode                        ErrorName  \\\n",
       "0  FNRAC1001W           WARN_TRACE_LOG_ENABLED   \n",
       "1  FNRAC1002W  WARN_ADDON_CANNOT_BE_UNSELECTED   \n",
       "2  FNRAC1001E                   ERR_UNEXPECTED   \n",
       "3  FNRAC1002E         ERR_LOGIN_AUTHENTICATION   \n",
       "4  FNRAC1003E               ERR_LOGIN_ACTIVITY   \n",
       "\n",
       "                                        ErrorMessage  \n",
       "0                   Server trace logging is enabled.  \n",
       "1  The selection of this add-on feature cannot be...  \n",
       "2                      An unexpected error occurred.  \n",
       "3            The system cannot log you on right now.  \n",
       "4                       You are no longer logged on.  "
      ]
     },
     "metadata": {},
     "output_type": "display_data"
    }
   ],
   "source": [
    "import pandas as pd\n",
    "\n",
    "# Provide your data file path below\n",
    "file_name = 'filenet-errors.csv'\n",
    "\n",
    "try:\n",
    "    df = pd.read_csv(file_name)\n",
    "    \n",
    "    # --- Data Cleaning Best Practice ---\n",
    "    # Remove any leading/trailing whitespace from column names.\n",
    "    df.columns = df.columns.str.strip()\n",
    "    \n",
    "    print(f\"Successfully loaded and cleaned data from '{file_name}'\")\n",
    "    print(\"\\nCleaned column names:\", df.columns.tolist())\n",
    "    \n",
    "    print(\"\\nFirst 5 rows of data:\")\n",
    "    # display() provides a nice, table-like output in Jupyter.\n",
    "    display(df.head())\n",
    "\n",
    "except FileNotFoundError:\n",
    "    print(f\"Error: The file '{file_name}' was not found.\")\n",
    "    print(\"   Please make sure the CSV file is in the same folder as this Jupyter Notebook.\")\n",
    "except Exception as e:\n",
    "    print(f\"An error occurred: {e}\")"
   ]
  },
  {
   "cell_type": "markdown",
   "id": "e5b781fe",
   "metadata": {},
   "source": [
    "### Step 4: Craft the AI prompt template\n",
    "\n",
    "Here, we will write the master instruction set, or 'prompt,' that tells our AI expert exactly how to behave and what to create.\n",
    "\n",
    "Our prompt template will:\n",
    "\n",
    "1.  **Define a Persona:** Tell the model to act as an expert IBM FileNet administrator.\n",
    "2.  **Provide the Input Data:** Use placeholders (`{error_code}`, `{error_message}`, etc.) that we will fill in later with our data.\n",
    "3.  **Specify the Output Format:** Instruct the model to use Markdown for headings and lists, ensuring a clean, readable output."
   ]
  },
  {
   "cell_type": "code",
   "execution_count": 9,
   "id": "5a326509",
   "metadata": {},
   "outputs": [
    {
     "name": "stdout",
     "output_type": "stream",
     "text": [
      "Prompt template created successfully.\n"
     ]
    }
   ],
   "source": [
    "# This template is our master instruction set for the Granite model.\n",
    "prompt_template = \"\"\"\n",
    "**Instruction:**\n",
    "You are an expert IBM FileNet P8 senior system administrator. Your task is to write a detailed, step-by-step troubleshooting tutorial for a junior administrator. Use the provided error details to create a realistic use-case scenario and a clear guide.\n",
    "\n",
    "**Input Data:**\n",
    "- Error Code: {error_code}\n",
    "- Error Name: {error_name}\n",
    "- Error Message: {error_message}\n",
    "\n",
    "**Required Output Format (Strictly use Markdown):**\n",
    "\n",
    "## Troubleshooting Guide: {error_code}\n",
    "\n",
    "### 1. Understanding the Error\n",
    "Provide a brief, scenario-based explanation of what this error means for a junior administrator.\n",
    "\n",
    "### 2. Common Scenario\n",
    "Describe a realistic, day-to-day situation where this error might occur. For example: \"A user from the finance team is trying to add a new invoice to the system but receives this error...\"\n",
    "\n",
    "### 3. Step-by-Step Troubleshooting\n",
    "1.  **First Actionable Step:** (e.g., \"Verify User Permissions in ACCE\"). Explain how to do this and why it's important for this specific error.\n",
    "2.  **Second Actionable Step:** (e.g., \"Check Server Logs\"). Specify which logs to check (e.g., p8_server_error.log) and what keywords to look for.\n",
    "3.  **Third Actionable Step:** (e.g., \"Review Class Definitions or Folder Security\"). Explain the process clearly.\n",
    "\n",
    "### 4. Summary of Solutions\n",
    "Briefly summarize the most likely solutions to resolve the error.\n",
    "\"\"\"\n",
    "\n",
    "print(\"Prompt template created successfully.\")"
   ]
  },
  {
   "cell_type": "markdown",
   "id": "363499c2",
   "metadata": {},
   "source": [
    "### Step 5: Create the AI generator function\n",
    "\n",
    "Now Let's create a reusable Python function that acts as the 'engine' for our tool, handling the AI generation process.\n",
    "\n",
    "This function will:\n",
    "\n",
    "1.  Take the details of a specific error (code, message, explanation) as input.\n",
    "2.  Use our `prompt_template` to format these details into a complete set of instructions.\n",
    "3.  Send the final prompt to our local `file-net-troubleshooter` model via Ollama.\n",
    "4.  Receive the AI-generated response and return it as clean text."
   ]
  },
  {
   "cell_type": "code",
   "execution_count": 10,
   "id": "c70614cd",
   "metadata": {},
   "outputs": [
    {
     "name": "stdout",
     "output_type": "stream",
     "text": [
      " Function 'generate_guide' created successfully.\n"
     ]
    }
   ],
   "source": [
    "import ollama\n",
    "\n",
    "def generate_guide(error_code, error_message, error_name):\n",
    "    \"\"\"\n",
    "    Generates a single troubleshooting guide by calling the local Ollama model.\n",
    "\n",
    "    Args:\n",
    "        error_code (str): The error code from our DataFrame.\n",
    "        error_message (str): The short error message.\n",
    "        explanation (str): The detailed explanation of the error.\n",
    "\n",
    "    Returns:\n",
    "        str: The AI-generated troubleshooting guide in Markdown format.\n",
    "    \"\"\"\n",
    "    # Step 1: Fill in the placeholders in our template with the specific error data.\n",
    "    full_prompt = prompt_template.format(\n",
    "        error_code=error_code,\n",
    "        error_name=error_name,\n",
    "        error_message=error_message\n",
    "    )\n",
    "\n",
    "    # Step 2: Send the complete prompt to our custom-built local model.\n",
    "    try:\n",
    "        response = ollama.chat(\n",
    "            model=model_name, # Our custom model name\n",
    "            messages=[\n",
    "                {'role': 'user', 'content': full_prompt},\n",
    "            ],\n",
    "            think=False,\n",
    "        )\n",
    "        # Step 3: Extract and return just the text content from the model's response.\n",
    "        return response['message']['content']\n",
    "    except Exception as e:\n",
    "        error_text = f\" An error occurred while communicating with the Ollama model: {e}\"\n",
    "        print(error_text)\n",
    "        return error_text\n",
    "\n",
    "print(\" Function 'generate_guide' created successfully.\")"
   ]
  },
  {
   "cell_type": "markdown",
   "id": "5b21ec08",
   "metadata": {},
   "source": [
    "### Step 6: Build the final flow of the troubleshooting guide generator\n",
    "\n",
    "Finally, we will assemble all our previous steps into the final interactive application that a user can operate.\n",
    "\n",
    "**This code block will:**\n",
    "\n",
    "1.  Create a continuous loop that keeps the tool running.\n",
    "2.  Prompt the user to enter a FileNet error code.\n",
    "3.  Search our DataFrame for the code the user entered.\n",
    "4.  If the code is found, it will call our `generate_guide` function and display the detailed, AI-generated guide.\n",
    "5.  If the code is not found, it will provide a helpful message and even suggest similar codes the user might have meant.\n",
    "6.  Allow the user to type `exit` to quit the tool gracefully."
   ]
  },
  {
   "cell_type": "code",
   "execution_count": 12,
   "id": "9d204a33",
   "metadata": {},
   "outputs": [
    {
     "name": "stdout",
     "output_type": "stream",
     "text": [
      "--- IBM FileNet AI Troubleshooter ---\n",
      "Enter a FileNet Error Code to generate a guide.\n",
      "Type 'exit' or 'quit' to stop the tool.\n",
      "-----------------------------------\n",
      "\n",
      " Found 'FNRAC4017E'. Generating guide with AI, please wait...\n",
      "-----------------------------------\n"
     ]
    },
    {
     "data": {
      "text/markdown": [
       "# Troubleshooting Guide: FNRAC4017E\n",
       "\n",
       "## 1. Understanding the Error\n",
       "The error code **FNRAC4017E** with the name **ERR_INVALID_START_DATE** indicates that a system operation in IBM FileNet P8 is encountering an issue because the effective start date specified for a document or task is later than its effective end date. In practical terms, this means there's a logical conflict within the data being entered: the time frame assigned to something (like an invoice period) cannot be validly defined as beginning after it ends.\n",
       "\n",
       "### Example Scenario\n",
       "Imagine you are a junior administrator in charge of managing financial documents for your company’s IBM FileNet P8 system. A user from the finance team attempts to upload a new invoice with the following details:\n",
       "- **Effective Start Date:** March 15, 2024\n",
       "- **Effective End Date:** March 10, 2024\n",
       "\n",
       "When they hit “Save” or “Submit,” the system throws an error indicating that the effective start date (March 15) cannot be after the end date (March 10). This is logically impossible and therefore triggers the FNRAC4017E error.\n",
       "\n",
       "## 2. Common Scenario\n",
       "**A finance team member tries to create a new invoice document in IBM FileNet P8. They input the document's effective start and end dates but mistakenly enter an end date that precedes the start date, causing the system to throw the `FNRAC4017E` error.**\n",
       "\n",
       "This typically occurs due to human error (typos or misinterpretation of date ranges) or when there’s a misunderstanding about how these fields should be populated.\n",
       "\n",
       "## 3. Step-by-Step Troubleshooting\n",
       "\n",
       "### Step 1: Verify User Permissions in ACCE\n",
       "**Action:** Log into the Administration Console for Content Engine (ACCE). Navigate to the user management section and check if the finance team member has the necessary permissions to create or modify documents within the appropriate content types.\n",
       "\n",
       "**Why It Matters:** The error might also stem from insufficient rights. Without proper access, even a correct date entry won’t allow the operation to complete successfully.\n",
       "\n",
       "### Step 2: Check Server Logs\n",
       "**Action:** Access the server logs for IBM FileNet P8. Specifically, look at `p8_server_error.log` or any other relevant log files. Search for error messages around the time of the attempted action (keyword search for “ERR_INVALID_START_DATE”).\n",
       "\n",
       "**What to Look For:** The logs might reveal if there were additional errors related to data validation or database constraints that occurred concurrently.\n",
       "\n",
       "### Step 3: Review Class Definitions or Folder Security\n",
       "**Action:** Open the class definitions in the IBM FileNet P8 repository. Check the properties of the content type associated with invoices (e.g., `IFINVOICE` class). Verify if there are any field validations related to date ranges or constraints that could prevent a valid entry.\n",
       "\n",
       "If the issue persists, review the folder security settings where the documents reside to ensure they allow for creation/modification by the user in question.\n",
       "\n",
       "**Why It Matters:** Misconfigured class definitions or restrictive folder permissions can directly cause this error if they don’t accommodate the date range values being entered.\n",
       "\n",
       "## 4. Summary of Solutions\n",
       "1. **Check and Correct Date Entries:** Ensure that the effective start date is not later than the end date when entering data for documents.\n",
       "2. **Verify Permissions:** Confirm that the user has adequate permissions to perform the action (creating/modifying documents).\n",
       "3. **Inspect Configuration Settings:** Review class definitions, folder security settings, and any associated validation rules to ensure they allow for the intended operation.\n",
       "\n",
       "By following these steps, junior administrators can effectively troubleshoot and resolve `FNRAC4017E` errors in IBM FileNet P8, ensuring smooth operations within their content management system."
      ],
      "text/plain": [
       "<IPython.core.display.Markdown object>"
      ]
     },
     "metadata": {},
     "output_type": "display_data"
    },
    {
     "name": "stdout",
     "output_type": "stream",
     "text": [
      "-----------------------------------\n",
      "\n",
      "Exiting the troubleshooter. Goodbye!\n"
     ]
    }
   ],
   "source": [
    "from IPython.display import display, Markdown\n",
    "\n",
    "print(\"--- IBM FileNet AI Troubleshooter ---\")\n",
    "print(\"Enter a FileNet Error Code to generate a guide.\")\n",
    "print(\"Type 'exit' or 'quit' to stop the tool.\")\n",
    "print(\"-\" * 35)\n",
    "\n",
    "# This loop will run continuously until the user types 'exit' or 'quit'.\n",
    "while True:\n",
    "    # 1. Get input from the user.\n",
    "    user_input = input(\"\\nEnter the FileNet Error Code: \")\n",
    "\n",
    "    # 2. Check if the user wants to exit.\n",
    "    if user_input.lower() in ['exit', 'quit']:\n",
    "        print(\"\\nExiting the troubleshooter. Goodbye!\")\n",
    "        break\n",
    "\n",
    "    # 3. Search for the exact error code in the DataFrame (case-insensitive).\n",
    "    result_df = df[df['ErrorCode'].str.lower() == user_input.lower()]\n",
    "\n",
    "    # 4. --- SUCCESS PATH --- If a match is found:\n",
    "    if not result_df.empty:\n",
    "        # Get the first matching row from our data.\n",
    "        error_details = result_df.iloc[0]\n",
    "\n",
    "        print(f\"\\n Found '{error_details['ErrorCode']}'. Generating guide with AI, please wait...\")\n",
    "        print(\"-\" * 35)\n",
    "\n",
    "        # Call our AI function to generate the guide.\n",
    "        guide_markdown = generate_guide(\n",
    "            error_code=error_details['ErrorCode'],\n",
    "            error_name=error_details['ErrorName'],\n",
    "            error_message=error_details['ErrorMessage']\n",
    "        )\n",
    "\n",
    "        # Display the formatted result in the notebook.\n",
    "        display(Markdown(guide_markdown))\n",
    "        print(\"-\" * 35)\n",
    "\n",
    "    # 5. --- FAILURE PATH --- If no exact match is found:\n",
    "    else:\n",
    "        print(f\"\\n Error: The code '{user_input}' was not found.\")\n",
    "\n",
    "        # BONUS: Suggest similar codes based on the user's input.\n",
    "        suggestions = df[df['ErrorCode'].str.contains(user_input.upper())]\n",
    "        if not suggestions.empty:\n",
    "            print(\"\\nDid you mean one of these?\")\n",
    "            for code in suggestions['ErrorCode'].tolist():\n",
    "                print(f\"- {code}\")\n",
    "        \n",
    "        print(\"-\" * 35)"
   ]
  },
  {
   "cell_type": "markdown",
   "id": "54cd1c83",
   "metadata": {},
   "source": []
  },
  {
   "cell_type": "markdown",
   "id": "76522998",
   "metadata": {},
   "source": [
    "## Conclusion"
   ]
  },
  {
   "cell_type": "markdown",
   "id": "2329f618",
   "metadata": {},
   "source": [
    "This tutorial is about more than just building one program. We have learned the fundamental skills needed to create your own specialized AI assistants. We have tamed a powerful yet small Large Language Model, become a prompt engineer, and built a practical solution to a real-world business problem.\n",
    "\n",
    "A Note on System Resources and Configuration\n",
    "\n",
    "It’s helpful to know the kind of system this tutorial was built on and what you should consider for your own machine.\n",
    "\n",
    "This tutorial was developed and tested on a MacBook Pro with the following specifications:\n",
    "- OS: macOS Sequoia\n",
    "- Memory (RAM): 32 GB\n",
    "- Storage (Disk) Used for Project: Approximately 4 GB\n",
    "\n",
    "Here's a breakdown of the resources this project will use:\n",
    "- Storage: The vast majority of the disk space is used by the AI model file itself. Expect the file-net-troubleshooter model to take up about 2 GB of storage. The code and data files are very small.\n",
    "- Memory (RAM): This is the most important resource for running the AI. When the model is active, it's loaded into your computer's RAM. For a smooth experience, a system with at least 16 GB of RAM is recommended. While the tool may function on a machine with 8 GB of RAM, it could be quite slow.\n",
    "\n",
    "**Guidance for Windows Users**\n",
    "\n",
    "For those of you working on a Windows machine, the good news is that the process is almost identical. All the tools we've used—Ollama, Python, and Jupyter—are fully compatible with Windows.\n",
    "\n",
    "The only minor difference is in the command-line interface. Instead of using a \"Terminal,\" you will use \"Command Prompt\" or \"PowerShell\" to run the setup commands like ollama create. All the commands themselves, and all the Python code, are exactly the same.\n",
    "\n",
    "**What You Can Build Next**\n",
    "\n",
    "This tutorial is more than just a FileNet tool; it’s a blueprint for powerful automation. The core components—a reliable model, a defined data source, and a smart prompt—can be adapted to countless other challenges, from parsing legal documents to generating code documentation.\n",
    "\n",
    "Think of the next step in this tool’s evolution: an assistant that you could automatically trigger to enrich IT support tickets that could be turned into a production-ready version of that service to be deployed on an application server for the entire organization."
   ]
  },
  {
   "cell_type": "markdown",
   "id": "5c49ecc2",
   "metadata": {},
   "source": []
  }
 ],
 "metadata": {
  "kernelspec": {
   "display_name": ".venv",
   "language": "python",
   "name": "python3"
  },
  "language_info": {
   "codemirror_mode": {
    "name": "ipython",
    "version": 3
   },
   "file_extension": ".py",
   "mimetype": "text/x-python",
   "name": "python",
   "nbconvert_exporter": "python",
   "pygments_lexer": "ipython3",
   "version": "3.11.13"
  }
 },
 "nbformat": 4,
 "nbformat_minor": 5
}
